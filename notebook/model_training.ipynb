{
 "cells": [
  {
   "cell_type": "code",
   "execution_count": null,
   "id": "d1ac4926",
   "metadata": {},
   "outputs": [],
   "source": [
    "\n",
    "# ✅ Fake News Detection - Fixed Training Notebook (Balanced Data)\n",
    "import pandas as pd\n",
    "from sklearn.model_selection import train_test_split\n",
    "from sklearn.feature_extraction.text import TfidfVectorizer\n",
    "from sklearn.linear_model import LogisticRegression\n",
    "import pickle\n",
    "\n",
    "# Upload your dataset\n",
    "from google.colab import files\n",
    "uploaded = files.upload()\n",
    "\n",
    "# Load dataset\n",
    "df = pd.read_csv('news.csv')\n",
    "df = df[['text', 'label']].dropna()\n",
    "\n",
    "# Balance dataset\n",
    "real = df[df['label'] == 'REAL']\n",
    "fake = df[df['label'] == 'FAKE']\n",
    "min_len = min(len(real), len(fake))\n",
    "df_balanced = pd.concat([real.sample(min_len, random_state=42), fake.sample(min_len, random_state=42)])\n",
    "\n",
    "# Shuffle data\n",
    "df_balanced = df_balanced.sample(frac=1, random_state=42)\n",
    "\n",
    "# Split data\n",
    "X_train, X_test, y_train, y_test = train_test_split(df_balanced['text'], df_balanced['label'], test_size=0.2, random_state=42)\n",
    "\n",
    "# Vectorize text\n",
    "vectorizer = TfidfVectorizer(stop_words='english', max_df=0.7)\n",
    "X_train_vec = vectorizer.fit_transform(X_train)\n",
    "X_test_vec = vectorizer.transform(X_test)\n",
    "\n",
    "# Train model\n",
    "model = LogisticRegression()\n",
    "model.fit(X_train_vec, y_train)\n",
    "\n",
    "# Test predictions\n",
    "print(\"Example FAKE prediction:\")\n",
    "print(model.predict(vectorizer.transform([\"Government Offers ₹5 Lakh to Every Indian Citizen Who Shares This Link\"])))\n",
    "\n",
    "print(\"Example REAL prediction:\")\n",
    "print(model.predict(vectorizer.transform([\"ISRO successfully lands Chandrayaan-3 near Moon’s south pole\"])))\n",
    "\n",
    "# Save files\n",
    "with open('fake_news_model.pkl', 'wb') as f:\n",
    "    pickle.dump(model, f)\n",
    "with open('vectorizer.pkl', 'wb') as f:\n",
    "    pickle.dump(vectorizer, f)\n",
    "\n",
    "# Download model\n",
    "files.download('fake_news_model.pkl')\n",
    "files.download('vectorizer.pkl')\n"
   ]
  }
 ],
 "metadata": {
  "kernelspec": {
   "display_name": "Python 3",
   "language": "python",
   "name": "python3"
  },
  "language_info": {
   "name": "python",
   "version": "3.13.2"
  }
 },
 "nbformat": 4,
 "nbformat_minor": 5
}
